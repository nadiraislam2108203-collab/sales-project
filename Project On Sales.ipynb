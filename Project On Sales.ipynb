{
 "cells": [
  {
   "cell_type": "markdown",
   "id": "cdf033ed-d771-444d-ad95-e686cdff5074",
   "metadata": {},
   "source": [
    "# 1.Importing Packages and Libraries"
   ]
  },
  {
   "cell_type": "code",
   "execution_count": 2,
   "id": "8a188030-9075-4f33-bf1f-24d9524f215e",
   "metadata": {},
   "outputs": [],
   "source": [
    "import pandas as pd\n",
    "import matplotlib.pyplot as plt\n",
    "import seaborn as sns"
   ]
  },
  {
   "cell_type": "markdown",
   "id": "d13d191b-f68e-4db6-931f-00e6db099315",
   "metadata": {},
   "source": [
    "# 2.Loading Database "
   ]
  },
  {
   "cell_type": "code",
   "execution_count": 33,
   "id": "a701304d-65d2-446a-8f00-a25a0dbe49a0",
   "metadata": {},
   "outputs": [
    {
     "name": "stdout",
     "output_type": "stream",
     "text": [
      "    InvoiceID        Date  CustomerID CustomerRegion ProductCategory   Brand  \\\n",
      "0           1  2023-01-01         272           East         Desktop  Lenovo   \n",
      "1           2  2023-01-02         147           East         Desktop   Apple   \n",
      "2           3  2023-01-03         217          South         Desktop      HP   \n",
      "3           4  2023-01-04         292          South         Desktop      HP   \n",
      "4           5  2023-01-05         423           West         Desktop    Acer   \n",
      "5           6  2023-01-06         351           East          Laptop      HP   \n",
      "6           7  2023-01-07         295           West         Desktop   Apple   \n",
      "7           8  2023-01-08         459          South         Desktop      HP   \n",
      "8           9  2023-01-09         109           East       Accessory   Apple   \n",
      "9          10  2023-01-10         311           East          Laptop    Acer   \n",
      "10         11  2023-01-11         377          South          Laptop   Apple   \n",
      "11         12  2023-01-12         342           West       Accessory  Lenovo   \n",
      "12         13  2023-01-13         392          South         Desktop      HP   \n",
      "13         14  2023-01-14         187          South          Laptop    Dell   \n",
      "14         15  2023-01-15         170          North         Desktop  Lenovo   \n",
      "15         16  2023-01-16         188           West       Accessory   Apple   \n",
      "16         17  2023-01-17         496           West          Laptop  Lenovo   \n",
      "17         18  2023-01-18         414          North         Desktop  Lenovo   \n",
      "18         19  2023-01-19         293           East          Laptop  Lenovo   \n",
      "19         20  2023-01-20         139          South          Laptop  Lenovo   \n",
      "20         21  2023-01-21         187          South         Desktop   Apple   \n",
      "21         22  2023-01-22         274           West         Desktop      HP   \n",
      "22         23  2023-01-23         188           West          Laptop      HP   \n",
      "23         24  2023-01-24         437           West       Accessory  Lenovo   \n",
      "24         25  2023-01-25         265           East          Laptop    Dell   \n",
      "25         26  2023-01-26         125           East       Accessory      HP   \n",
      "26         27  2023-01-27         433          South          Laptop   Apple   \n",
      "27         28  2023-01-28         172          North         Desktop   Apple   \n",
      "28         29  2023-01-29         365           West       Accessory      HP   \n",
      "29         30  2023-01-30         215          North       Accessory   Apple   \n",
      "30         31  2023-01-31         343          South          Laptop   Apple   \n",
      "31         32  2023-02-01         297          South          Laptop    Acer   \n",
      "32         33  2023-02-02         435          North       Accessory   Apple   \n",
      "33         34  2023-02-03         438           West         Desktop      HP   \n",
      "34         35  2023-02-04         199          South       Accessory      HP   \n",
      "35         36  2023-02-05         277          South       Accessory    Dell   \n",
      "\n",
      "    UnitPrice  Quantity  \n",
      "0        1965         1  \n",
      "1         815         4  \n",
      "2         823         4  \n",
      "3        1711         4  \n",
      "4        1434         4  \n",
      "5        1834         2  \n",
      "6         999         4  \n",
      "7        1464         2  \n",
      "8        1118         2  \n",
      "9        1068         4  \n",
      "10        866         4  \n",
      "11       1378         4  \n",
      "12       1947         3  \n",
      "13       1011         1  \n",
      "14       1645         2  \n",
      "15        782         4  \n",
      "16       1354         1  \n",
      "17       1665         2  \n",
      "18       1917         4  \n",
      "19        963         3  \n",
      "20       1231         3  \n",
      "21       1229         1  \n",
      "22       1202         4  \n",
      "23        324         2  \n",
      "24       1358         3  \n",
      "25       1315         4  \n",
      "26       1940         4  \n",
      "27        741         4  \n",
      "28        658         2  \n",
      "29        757         2  \n",
      "30        964         3  \n",
      "31       1841         3  \n",
      "32       1564         3  \n",
      "33       1244         1  \n",
      "34       1221         1  \n",
      "35       1776         1  \n"
     ]
    }
   ],
   "source": [
    "df=pd.read_csv('computer_sales.csv')\n",
    "print(df.head(36))"
   ]
  },
  {
   "cell_type": "code",
   "execution_count": 37,
   "id": "6190fe67-77f6-492a-b286-b4fe53d63e89",
   "metadata": {},
   "outputs": [
    {
     "name": "stdout",
     "output_type": "stream",
     "text": [
      "<class 'pandas.core.frame.DataFrame'>\n",
      "RangeIndex: 1000 entries, 0 to 999\n",
      "Data columns (total 8 columns):\n",
      " #   Column           Non-Null Count  Dtype \n",
      "---  ------           --------------  ----- \n",
      " 0   InvoiceID        1000 non-null   int64 \n",
      " 1   Date             1000 non-null   object\n",
      " 2   CustomerID       1000 non-null   int64 \n",
      " 3   CustomerRegion   1000 non-null   object\n",
      " 4   ProductCategory  1000 non-null   object\n",
      " 5   Brand            1000 non-null   object\n",
      " 6   UnitPrice        1000 non-null   int64 \n",
      " 7   Quantity         1000 non-null   int64 \n",
      "dtypes: int64(4), object(4)\n",
      "memory usage: 62.6+ KB\n",
      "None\n"
     ]
    }
   ],
   "source": [
    "print(df.info())"
   ]
  },
  {
   "cell_type": "markdown",
   "id": "332b6129-9139-4757-930d-7f2ef67962a3",
   "metadata": {},
   "source": [
    "# 3.Overview the database"
   ]
  },
  {
   "cell_type": "code",
   "execution_count": 39,
   "id": "e9421378-d726-441d-a7cb-7958a4b477b4",
   "metadata": {},
   "outputs": [
    {
     "name": "stdout",
     "output_type": "stream",
     "text": [
      "         InvoiceID   CustomerID    UnitPrice    Quantity\n",
      "count  1000.000000  1000.000000  1000.000000  1000.00000\n",
      "mean    500.500000   302.946000  1179.545000     2.51000\n",
      "std     288.819436   115.281043   488.946241     1.12123\n",
      "min       1.000000   100.000000   301.000000     1.00000\n",
      "25%     250.750000   205.000000   748.000000     2.00000\n",
      "50%     500.500000   298.500000  1203.000000     3.00000\n",
      "75%     750.250000   405.250000  1613.000000     4.00000\n",
      "max    1000.000000   498.000000  1998.000000     4.00000\n"
     ]
    }
   ],
   "source": [
    "print(df.describe())"
   ]
  },
  {
   "cell_type": "code",
   "execution_count": 41,
   "id": "1995b85f-d95e-4848-a1c2-4a8f2752912b",
   "metadata": {},
   "outputs": [
    {
     "name": "stdout",
     "output_type": "stream",
     "text": [
      "InvoiceID          0\n",
      "Date               0\n",
      "CustomerID         0\n",
      "CustomerRegion     0\n",
      "ProductCategory    0\n",
      "Brand              0\n",
      "UnitPrice          0\n",
      "Quantity           0\n",
      "dtype: int64\n"
     ]
    }
   ],
   "source": [
    "print(df.isnull().sum())"
   ]
  },
  {
   "cell_type": "markdown",
   "id": "394020f5-285d-4033-96c5-4a77d11f3600",
   "metadata": {},
   "source": [
    "# 4.Sales Analysis"
   ]
  },
  {
   "cell_type": "code",
   "execution_count": 68,
   "id": "cd64e8e7-b2f3-4cff-bbf4-1ef65c2854e1",
   "metadata": {},
   "outputs": [
    {
     "name": "stdout",
     "output_type": "stream",
     "text": [
      "    InvoiceID        Date  CustomerID CustomerRegion ProductCategory   Brand  \\\n",
      "0           1  2023-01-01         272           East         Desktop  Lenovo   \n",
      "1           2  2023-01-02         147           East         Desktop   Apple   \n",
      "2           3  2023-01-03         217          South         Desktop      HP   \n",
      "3           4  2023-01-04         292          South         Desktop      HP   \n",
      "4           5  2023-01-05         423           West         Desktop    Acer   \n",
      "5           6  2023-01-06         351           East          Laptop      HP   \n",
      "6           7  2023-01-07         295           West         Desktop   Apple   \n",
      "7           8  2023-01-08         459          South         Desktop      HP   \n",
      "8           9  2023-01-09         109           East       Accessory   Apple   \n",
      "9          10  2023-01-10         311           East          Laptop    Acer   \n",
      "10         11  2023-01-11         377          South          Laptop   Apple   \n",
      "\n",
      "    UnitPrice  Quantity  Sales  \n",
      "0        1965         1   1965  \n",
      "1         815         4   3260  \n",
      "2         823         4   3292  \n",
      "3        1711         4   6844  \n",
      "4        1434         4   5736  \n",
      "5        1834         2   3668  \n",
      "6         999         4   3996  \n",
      "7        1464         2   2928  \n",
      "8        1118         2   2236  \n",
      "9        1068         4   4272  \n",
      "10        866         4   3464  \n"
     ]
    }
   ],
   "source": [
    "df['Sales']=df['UnitPrice']*df['Quantity']\n",
    "print(df.head(11))\n"
   ]
  },
  {
   "cell_type": "markdown",
   "id": "6b959773-09f0-4773-a692-2279f6d60204",
   "metadata": {},
   "source": [
    "## Product Wise Sale"
   ]
  },
  {
   "cell_type": "code",
   "execution_count": 66,
   "id": "27ca6cce-5f70-4e13-958e-b0acaa0f83b3",
   "metadata": {},
   "outputs": [
    {
     "name": "stdout",
     "output_type": "stream",
     "text": [
      "                   Sales\n",
      "ProductCategory         \n",
      "Accessory         955066\n",
      "Desktop          1028865\n",
      "Laptop            971531\n"
     ]
    },
    {
     "data": {
      "text/plain": [
       "<Axes: xlabel='ProductCategory'>"
      ]
     },
     "execution_count": 66,
     "metadata": {},
     "output_type": "execute_result"
    },
    {
     "data": {
      "image/png": "[encoded data removed]",
      "text/plain": [
       "<Figure size 640x480 with 1 Axes>"
      ]
     },
     "metadata": {},
     "output_type": "display_data"
    }
   ],
   "source": [
    "pivot1=pd.pivot_table(\n",
    "    df,\n",
    "    index='ProductCategory',\n",
    "    values='Sales',\n",
    "    aggfunc='sum'\n",
    ")\n",
    "print(pivot1)\n",
    "pivot1.plot(kind='bar')"
   ]
  },
  {
   "cell_type": "code",
   "execution_count": 80,
   "id": "dd1759dc-cc9b-4391-8e54-974328b62c5d",
   "metadata": {},
   "outputs": [
    {
     "name": "stdout",
     "output_type": "stream",
     "text": [
      "ProductCategory\n",
      "Desktop      1028865\n",
      "Laptop        971531\n",
      "Accessory     955066\n",
      "Name: Sales, dtype: int64\n"
     ]
    },
    {
     "data": {
      "text/plain": [
       "<Axes: ylabel='Sales'>"
      ]
     },
     "execution_count": 80,
     "metadata": {},
     "output_type": "execute_result"
    },
    {
     "data": {
      "image/png": "[encoded data removed]",
      "text/plain": [
       "<Figure size 640x480 with 1 Axes>"
      ]
     },
     "metadata": {},
     "output_type": "display_data"
    }
   ],
   "source": [
    "category_sales=df.groupby('ProductCategory')['Sales'].sum().sort_values(ascending=False)\n",
    "print(category_sales)\n",
    "\n",
    "category_sales.plot(kind='pie')"
   ]
  },
  {
   "cell_type": "code",
   "execution_count": 94,
   "id": "6d83ca70-b0f4-4055-869a-276e2e3083b6",
   "metadata": {},
   "outputs": [
    {
     "name": "stdout",
     "output_type": "stream",
     "text": [
      "Brand\n",
      "Acer      534110\n",
      "Dell      585753\n",
      "Lenovo    586889\n",
      "Apple     609642\n",
      "HP        639068\n",
      "Name: Sales, dtype: int64\n"
     ]
    },
    {
     "data": {
      "text/plain": [
       "<Axes: ylabel='Sales'>"
      ]
     },
     "execution_count": 94,
     "metadata": {},
     "output_type": "execute_result"
    },
    {
     "data": {
      "image/png": "[encoded data removed]",
      "text/plain": [
       "<Figure size 640x480 with 1 Axes>"
      ]
     },
     "metadata": {},
     "output_type": "display_data"
    }
   ],
   "source": [
    "category_sales=df.groupby('Brand')['Sales'].sum().sort_values()\n",
    "print(category_sales)\n",
    "\n",
    "category_sales.plot(kind='pie')"
   ]
  },
  {
   "cell_type": "code",
   "execution_count": 96,
   "id": "684d3d6e-410c-4f61-af4d-cbf8b12a0165",
   "metadata": {},
   "outputs": [
    {
     "name": "stdout",
     "output_type": "stream",
     "text": [
      "   InvoiceID        Date  CustomerID CustomerRegion ProductCategory   Brand  \\\n",
      "0          1  2023-01-01         272           East         Desktop  Lenovo   \n",
      "1          2  2023-01-02         147           East         Desktop   Apple   \n",
      "2          3  2023-01-03         217          South         Desktop      HP   \n",
      "3          4  2023-01-04         292          South         Desktop      HP   \n",
      "4          5  2023-01-05         423           West         Desktop    Acer   \n",
      "\n",
      "   UnitPrice  Quantity  Sales  \n",
      "0       1965         1   1965  \n",
      "1        815         4   3260  \n",
      "2        823         4   3292  \n",
      "3       1711         4   6844  \n",
      "4       1434         4   5736  \n"
     ]
    }
   ],
   "source": [
    "print(df.head(5))"
   ]
  },
  {
   "cell_type": "code",
   "execution_count": 104,
   "id": "7ebeca25-450e-4fe7-aa4b-857bb6e1b29a",
   "metadata": {},
   "outputs": [
    {
     "name": "stdout",
     "output_type": "stream",
     "text": [
      "           UnitPrice  Quantity     Sales\n",
      "UnitPrice   1.000000 -0.009487  0.641566\n",
      "Quantity   -0.009487  1.000000  0.699714\n",
      "Sales       0.641566  0.699714  1.000000\n"
     ]
    },
    {
     "data": {
      "text/plain": [
       "<Axes: >"
      ]
     },
     "execution_count": 104,
     "metadata": {},
     "output_type": "execute_result"
    },
    {
     "data": {
      "image/png": "[encoded data removed]",
      "text/plain": [
       "<Figure size 640x480 with 2 Axes>"
      ]
     },
     "metadata": {},
     "output_type": "display_data"
    }
   ],
   "source": [
    "corr_mat=df[['UnitPrice','Quantity','Sales']].corr()\n",
    "print(corr_mat)\n",
    "sns.heatmap(corr_mat,cmap='hot')"
   ]
  },
  {
   "cell_type": "code",
   "execution_count": 112,
   "id": "91840b2c-7916-403c-aaed-efd250cb2112",
   "metadata": {},
   "outputs": [
    {
     "name": "stdout",
     "output_type": "stream",
     "text": [
      "CustomerID\n",
      "496    24354\n",
      "297    24016\n",
      "248    24008\n",
      "307    24000\n",
      "390    23263\n",
      "       ...  \n",
      "152      646\n",
      "412      646\n",
      "196      576\n",
      "201      394\n",
      "121      326\n",
      "Name: Sales, Length: 371, dtype: int64\n"
     ]
    }
   ],
   "source": [
    "customer_summery=df.groupby('CustomerID')['Sales'].sum().sort_values(ascending=False)\n",
    "print(customer_summery)"
   ]
  },
  {
   "cell_type": "code",
   "execution_count": null,
   "id": "5b068bc1-7e31-497f-abe8-0a22852baa04",
   "metadata": {},
   "outputs": [],
   "source": []
  }
 ],
 "metadata": {
  "kernelspec": {
   "display_name": "Python [conda env:base] *",
   "language": "python",
   "name": "conda-base-py"
  },
  "language_info": {
   "codemirror_mode": {
    "name": "ipython",
    "version": 3
   },
   "file_extension": ".py",
   "mimetype": "text/x-python",
   "name": "python",
   "nbconvert_exporter": "python",
   "pygments_lexer": "ipython3",
   "version": "3.12.7"
  }
 },
 "nbformat": 4,
 "nbformat_minor": 5
}
